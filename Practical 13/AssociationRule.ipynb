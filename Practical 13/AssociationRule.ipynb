{
 "cells": [
  {
   "cell_type": "code",
   "execution_count": 4,
   "id": "1b2d6388-21d3-4c48-ad66-850409512299",
   "metadata": {},
   "outputs": [],
   "source": [
    "import pandas as pd\n",
    "from mlxtend.frequent_patterns import apriori, association_rules"
   ]
  },
  {
   "cell_type": "code",
   "execution_count": 7,
   "id": "c947149e-a6e6-4fdb-a27b-83b6d8b59d02",
   "metadata": {},
   "outputs": [],
   "source": [
    "#Each transaction is a list od items purchased together\n",
    "dataset=[\n",
    "    ['milk','bread','nuts','apple'],\n",
    "    ['milk','bread','nuts'],\n",
    "    ['milk','bread'],\n",
    "    ['milk','apple'],\n",
    "    ['bread','apple'],\n",
    "    ['milk','bread','apple'],\n",
    "    ['milk','bread','apple'],\n",
    "    ['bread','nuts']\n",
    "]"
   ]
  },
  {
   "cell_type": "code",
   "execution_count": 8,
   "id": "ee0f59b1-cce2-4b45-88e5-ca3a635140c3",
   "metadata": {},
   "outputs": [],
   "source": [
    "from mlxtend.preprocessing import TransactionEncoder\n",
    "te=TransactionEncoder()\n",
    "te_array = te.fit(dataset).transform(dataset)\n",
    "df=pd.DataFrame(te_array,columns=te.columns_)"
   ]
  },
  {
   "cell_type": "code",
   "execution_count": 9,
   "id": "c700b2b6-76ec-4edf-800b-bdf1ab539c1c",
   "metadata": {},
   "outputs": [
    {
     "name": "stdout",
     "output_type": "stream",
     "text": [
      "One-Hot Encoded Transaction Data: \n",
      "   apple  bread   milk   nuts\n",
      "0   True   True   True   True\n",
      "1  False   True   True   True\n",
      "2  False   True   True  False\n",
      "3   True  False   True  False\n",
      "4   True   True  False  False\n",
      "5   True   True   True  False\n",
      "6   True   True   True  False\n",
      "7  False   True  False   True\n"
     ]
    }
   ],
   "source": [
    "print(\"One-Hot Encoded Transaction Data: \")\n",
    "print(df)"
   ]
  },
  {
   "cell_type": "code",
   "execution_count": 10,
   "id": "23b463a7-c7e6-45a7-a27c-edab78eae9a7",
   "metadata": {},
   "outputs": [
    {
     "name": "stdout",
     "output_type": "stream",
     "text": [
      "\n",
      " Frequent Itemsets:\n",
      "   support              itemsets\n",
      "0    0.625               (apple)\n",
      "1    0.875               (bread)\n",
      "2    0.750                (milk)\n",
      "3    0.375                (nuts)\n",
      "4    0.500        (apple, bread)\n",
      "5    0.500         (apple, milk)\n",
      "6    0.625         (bread, milk)\n",
      "7    0.375         (bread, nuts)\n",
      "8    0.375  (apple, bread, milk)\n"
     ]
    }
   ],
   "source": [
    "frequent_itemsets = apriori(df, min_support = 0.3,use_colnames=True)\n",
    "print(\"\\n Frequent Itemsets:\")\n",
    "print(frequent_itemsets)"
   ]
  },
  {
   "cell_type": "code",
   "execution_count": 12,
   "id": "c469c02a-150a-4c1d-a43d-992b88dfd0ef",
   "metadata": {},
   "outputs": [
    {
     "name": "stdout",
     "output_type": "stream",
     "text": [
      "\n",
      " Association Rules:\n",
      "      antecedents     consequents  support  confidence      lift\n",
      "0         (apple)          (milk)    0.500    0.800000  1.066667\n",
      "1          (milk)         (apple)    0.500    0.666667  1.066667\n",
      "2         (bread)          (nuts)    0.375    0.428571  1.142857\n",
      "3          (nuts)         (bread)    0.375    1.000000  1.142857\n",
      "4  (apple, bread)          (milk)    0.375    0.750000  1.000000\n",
      "5          (milk)  (apple, bread)    0.375    0.500000  1.000000\n"
     ]
    }
   ],
   "source": [
    "rules = association_rules(frequent_itemsets,metric=\"lift\",min_threshold=1.0)\n",
    "print(\"\\n Association Rules:\")\n",
    "print(rules[['antecedents','consequents','support','confidence','lift']])"
   ]
  },
  {
   "cell_type": "code",
   "execution_count": 13,
   "id": "eaa724c9-38e8-4817-b23d-31c4933ed8dd",
   "metadata": {},
   "outputs": [
    {
     "name": "stdout",
     "output_type": "stream",
     "text": [
      "\n",
      " Top Rules by Lift:\n",
      "      antecedents     consequents  support  confidence      lift\n",
      "2         (bread)          (nuts)    0.375    0.428571  1.142857\n",
      "3          (nuts)         (bread)    0.375    1.000000  1.142857\n",
      "0         (apple)          (milk)    0.500    0.800000  1.066667\n",
      "1          (milk)         (apple)    0.500    0.666667  1.066667\n",
      "4  (apple, bread)          (milk)    0.375    0.750000  1.000000\n",
      "5          (milk)  (apple, bread)    0.375    0.500000  1.000000\n"
     ]
    }
   ],
   "source": [
    "rules = rules.sort_values(by='lift',ascending=False)\n",
    "print(\"\\n Top Rules by Lift:\")\n",
    "print(rules[['antecedents','consequents','support','confidence','lift']])"
   ]
  },
  {
   "cell_type": "code",
   "execution_count": null,
   "id": "23511463-fac1-43ed-be64-bd8f915ff564",
   "metadata": {},
   "outputs": [],
   "source": [
    "\n"
   ]
  }
 ],
 "metadata": {
  "kernelspec": {
   "display_name": "Python 3 (ipykernel)",
   "language": "python",
   "name": "python3"
  },
  "language_info": {
   "codemirror_mode": {
    "name": "ipython",
    "version": 3
   },
   "file_extension": ".py",
   "mimetype": "text/x-python",
   "name": "python",
   "nbconvert_exporter": "python",
   "pygments_lexer": "ipython3",
   "version": "3.12.7"
  }
 },
 "nbformat": 4,
 "nbformat_minor": 5
}
